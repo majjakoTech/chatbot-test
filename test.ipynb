{
 "cells": [
  {
   "cell_type": "code",
   "execution_count": 22,
   "metadata": {},
   "outputs": [],
   "source": [
    "from langgraph.graph import START, END, StateGraph\n",
    "from dotenv import load_dotenv\n",
    "from typing import Annotated, TypedDict\n",
    "from langchain_openai import ChatOpenAI, OpenAIEmbeddings\n",
    "from langchain_qdrant import Qdrant\n",
    "from langgraph.graph.message import add_messages\n",
    "from langchain_core.messages import HumanMessage, AIMessage,SystemMessage\n",
    "from langchain.chains import RetrievalQA\n",
    "from qdrant_client import QdrantClient\n",
    "from pydantic import BaseModel,Field\n",
    "from IPython.display import Image,display\n",
    "from typing_extensions import Literal\n",
    "import os"
   ]
  },
  {
   "cell_type": "code",
   "execution_count": 23,
   "metadata": {},
   "outputs": [
    {
     "name": "stderr",
     "output_type": "stream",
     "text": [
      "/opt/anaconda3/envs/py312/lib/python3.12/site-packages/langchain_openai/chat_models/base.py:1772: UserWarning: Cannot use method='json_schema' with model gpt-4-turbo since it doesn't support OpenAI's Structured Output API. You can see supported models here: https://platform.openai.com/docs/guides/structured-outputs#supported-models. To fix this warning, set `method='function_calling'. Overriding to method='function_calling'.\n",
      "  warnings.warn(\n"
     ]
    }
   ],
   "source": [
    "# Load environment variables from .env (ensure OPENAI_API_KEY is set)\n",
    "load_dotenv()\n",
    "\n",
    "# Connect to Qdrant\n",
    "client = QdrantClient(url=\"http://localhost:6333\")\n",
    "\n",
    "# Initialize OpenAI Embeddings\n",
    "embedding_model = OpenAIEmbeddings(model=\"text-embedding-3-large\")\n",
    "\n",
    "# Setup vector store\n",
    "vector_store = Qdrant(\n",
    "    client=client,\n",
    "    collection_name=\"hugging_cat\",\n",
    "    embeddings=embedding_model\n",
    ")\n",
    "\n",
    "# Retriever + OpenAI LLM\n",
    "retriever = vector_store.as_retriever()\n",
    "llm = ChatOpenAI(model=\"gpt-4-turbo\", temperature=0)\n",
    "\n",
    "# RetrievalQA chain\n",
    "qa_chain = RetrievalQA.from_chain_type(llm=llm, retriever=retriever, chain_type=\"stuff\")\n",
    "\n",
    "# State definition\n",
    "class State(TypedDict):\n",
    "    messages: Annotated[list, add_messages]\n",
    "    decision:str\n",
    "\n",
    "class CatRelated(BaseModel):\n",
    "    step:Literal[\"yes\",\"no\"]=Field(description=\"CKD related or not\")\n",
    "\n",
    "\n",
    "# Chatbot node logic\n",
    "def chatbot(state: State) -> State:\n",
    "    last_human_msg = [m for m in state[\"messages\"] if isinstance(m, HumanMessage)][-1]\n",
    "    query = last_human_msg.content\n",
    "\n",
    "    response = qa_chain.invoke({\"query\": query})\n",
    "    response_text = response[\"result\"]\n",
    "\n",
    "    return {\"messages\": state[\"messages\"] + [AIMessage(content=response_text)]}\n",
    "\n",
    "router=llm.with_structured_output(CatRelated)\n",
    "\n",
    "def llm_call_router(state:State):\n",
    "    \"\"\" Route the input to the appropriate node\"\"\"\n",
    "    decision=router.invoke([\n",
    "        SystemMessage(\n",
    "            content=\"\"\"You are a strict classifier. Return 'yes' if the following query is related to cats,cat health, feline chronic kidney disease (CKD), cat nutrition, or general feline care. Otherwise, return 'no'. Respond with only 'yes' or 'no'.\"\"\"\n",
    "        ),\n",
    "        HumanMessage(content=state[\"messages\"][-1].content)\n",
    "    ])\n",
    "\n",
    "    return {\"decision\":decision.step}\n",
    "\n",
    "def route_decision(state:State):\n",
    "\n",
    "    if state[\"decision\"]==\"yes\":\n",
    "        return \"chatbot\"\n",
    "    elif state[\"decision\"]==\"no\":\n",
    "        return \"end\""
   ]
  },
  {
   "cell_type": "code",
   "execution_count": 24,
   "metadata": {},
   "outputs": [
    {
     "data": {
      "image/png": "[encoded data removed]",
      "text/plain": [
       "<IPython.core.display.Image object>"
      ]
     },
     "metadata": {},
     "output_type": "display_data"
    },
    {
     "name": "stdout",
     "output_type": "stream",
     "text": [
      "Chronic kidney disease (CKD) is a condition characterized by a gradual loss of kidney function over time. It can progress to kidney failure if not managed properly. The symptoms of CKD are often not specific, meaning they can also be caused by other illnesses. Because the kidneys are highly adaptable and able to compensate for lost function, symptoms may not appear until irreversible damage has occurred. Common symptoms of CKD include:\n",
      "\n",
      "1. **Fatigue and weakness** - Due to anemia or accumulation of waste products in the body.\n",
      "2. **Changes in urination** - This could be urinating more or less frequently, or noticing that the urine is foamy or bloody.\n",
      "3. **Swelling (edema)** - Fluid retention can cause swelling in the legs, ankles, feet, face, or hands.\n",
      "4. **Shortness of breath** - Fluid buildup in the lungs can make it difficult to breathe.\n",
      "5. **Sleep problems** - Trouble sleeping due to muscle cramps or restless legs.\n",
      "6. **Nausea and vomiting** - Buildup of waste products in the bloodstream can cause these symptoms.\n",
      "7. **Decreased mental sharpness** - Kidney dysfunction can affect brain function, leading to issues like confusion or difficulty concentrating.\n",
      "8. **Muscle cramps and twitches** - Electrolyte imbalances can cause muscle problems.\n",
      "9. **Itching** - High phosphorus levels in the blood can cause persistent itching.\n",
      "10. **Loss of appetite** - A general feeling of illness and changes in taste may reduce appetite.\n",
      "11. **High blood pressure (hypertension)** - Kidney issues can lead to increased blood pressure, which can further damage the kidneys.\n",
      "\n",
      "Early detection and treatment of CKD can help manage the symptoms and prevent progression of the disease. If you suspect you have symptoms of CKD, it is important to consult a healthcare provider for appropriate tests and diagnosis.\n"
     ]
    }
   ],
   "source": [
    "\n",
    "# Build the LangGraph\n",
    "graph = StateGraph(State)\n",
    "\n",
    "graph.add_node(\"llm_call_router\", llm_call_router)\n",
    "graph.add_node(\"chatbot\", chatbot)\n",
    "\n",
    "graph.add_edge(START,\"llm_call_router\")\n",
    "graph.add_conditional_edges(\"llm_call_router\",route_decision,{\n",
    "    \"chatbot\":\"chatbot\",\n",
    "    \"end\":END\n",
    "})\n",
    "\n",
    "graph_builder = graph.compile()\n",
    "\n",
    "display(Image(graph_builder.get_graph().draw_mermaid_png()))\n",
    "\n",
    "result = graph_builder.invoke({\n",
    "        \"messages\": [HumanMessage(content=\"What are the symptoms of CKD?\")]\n",
    "    })\n",
    "print(result[\"messages\"][-1].content)\n"
   ]
  },
  {
   "cell_type": "code",
   "execution_count": null,
   "metadata": {},
   "outputs": [],
   "source": []
  },
  {
   "cell_type": "code",
   "execution_count": null,
   "metadata": {},
   "outputs": [],
   "source": []
  }
 ],
 "metadata": {
  "kernelspec": {
   "display_name": "py312",
   "language": "python",
   "name": "python3"
  },
  "language_info": {
   "codemirror_mode": {
    "name": "ipython",
    "version": 3
   },
   "file_extension": ".py",
   "mimetype": "text/x-python",
   "name": "python",
   "nbconvert_exporter": "python",
   "pygments_lexer": "ipython3",
   "version": "3.12.11"
  }
 },
 "nbformat": 4,
 "nbformat_minor": 2
}
